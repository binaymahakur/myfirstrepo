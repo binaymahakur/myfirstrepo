{
 "cells": [
  {
   "cell_type": "code",
   "execution_count": 3,
   "id": "4d8815ef",
   "metadata": {},
   "outputs": [
    {
     "name": "stdout",
     "output_type": "stream",
     "text": [
      "Hello World!\n"
     ]
    }
   ],
   "source": [
    "print(\"Hello World!\")"
   ]
  },
  {
   "cell_type": "code",
   "execution_count": 5,
   "id": "f512b951",
   "metadata": {},
   "outputs": [
    {
     "name": "stdout",
     "output_type": "stream",
     "text": [
      "Hi guys\n"
     ]
    }
   ],
   "source": [
    "print(\"Hi guys\")"
   ]
  },
  {
   "cell_type": "code",
   "execution_count": 6,
   "id": "f8369c8e",
   "metadata": {},
   "outputs": [
    {
     "name": "stdout",
     "output_type": "stream",
     "text": [
      "4\n"
     ]
    }
   ],
   "source": [
    "print(2+2)"
   ]
  },
  {
   "cell_type": "code",
   "execution_count": 7,
   "id": "1ff314c0",
   "metadata": {},
   "outputs": [
    {
     "name": "stdout",
     "output_type": "stream",
     "text": [
      "10\n"
     ]
    }
   ],
   "source": [
    "x=10\n",
    "y=5\n",
    "print(x)"
   ]
  },
  {
   "cell_type": "code",
   "execution_count": 9,
   "id": "4fcea160",
   "metadata": {},
   "outputs": [
    {
     "name": "stdout",
     "output_type": "stream",
     "text": [
      "5\n"
     ]
    }
   ],
   "source": [
    "print(y);"
   ]
  },
  {
   "cell_type": "code",
   "execution_count": 10,
   "id": "fa79ee31",
   "metadata": {},
   "outputs": [
    {
     "ename": "SyntaxError",
     "evalue": "invalid syntax (2282370742.py, line 1)",
     "output_type": "error",
     "traceback": [
      "\u001b[1;36m  Input \u001b[1;32mIn [10]\u001b[1;36m\u001b[0m\n\u001b[1;33m    if(x==10)\u001b[0m\n\u001b[1;37m             ^\u001b[0m\n\u001b[1;31mSyntaxError\u001b[0m\u001b[1;31m:\u001b[0m invalid syntax\n"
     ]
    }
   ],
   "source": [
    "if(x==10)\n",
    "print('its working')"
   ]
  },
  {
   "cell_type": "code",
   "execution_count": 11,
   "id": "07cb8416",
   "metadata": {},
   "outputs": [
    {
     "name": "stdout",
     "output_type": "stream",
     "text": [
      "sum of x and y is 15\n"
     ]
    }
   ],
   "source": [
    "print(\"sum of x and y is\", x+y)"
   ]
  },
  {
   "cell_type": "code",
   "execution_count": 12,
   "id": "06210814",
   "metadata": {},
   "outputs": [
    {
     "name": "stdout",
     "output_type": "stream",
     "text": [
      "The value of x & y are  10 & 5 respectively\n"
     ]
    }
   ],
   "source": [
    "print(\"The value of x & y are \",x,\"&\",y,'respectively')"
   ]
  },
  {
   "cell_type": "code",
   "execution_count": 13,
   "id": "01f9bd53",
   "metadata": {},
   "outputs": [
    {
     "name": "stdout",
     "output_type": "stream",
     "text": [
      "multiplication of x & y = 50\n"
     ]
    }
   ],
   "source": [
    "print(\"multiplication of x & y =\", x*y)"
   ]
  },
  {
   "cell_type": "code",
   "execution_count": null,
   "id": "30d38b4a",
   "metadata": {},
   "outputs": [],
   "source": []
  }
 ],
 "metadata": {
  "kernelspec": {
   "display_name": "Python 3 (ipykernel)",
   "language": "python",
   "name": "python3"
  },
  "language_info": {
   "codemirror_mode": {
    "name": "ipython",
    "version": 3
   },
   "file_extension": ".py",
   "mimetype": "text/x-python",
   "name": "python",
   "nbconvert_exporter": "python",
   "pygments_lexer": "ipython3",
   "version": "3.9.12"
  }
 },
 "nbformat": 4,
 "nbformat_minor": 5
}
